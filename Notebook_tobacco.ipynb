{
 "cells": [
  {
   "cell_type": "markdown",
   "metadata": {},
   "source": [
    "# Tobacco Documents Classification"
   ]
  },
  {
   "cell_type": "markdown",
   "metadata": {},
   "source": [
    "# Mathieu VANDECASTEELE - MASTER SID 2018-2019"
   ]
  },
  {
   "cell_type": "markdown",
   "metadata": {},
   "source": [
    "## Université de Rouen"
   ]
  },
  {
   "cell_type": "markdown",
   "metadata": {},
   "source": [
    "Joint à ce rapport : scripts Python"
   ]
  },
  {
   "cell_type": "code",
   "execution_count": 1,
   "metadata": {},
   "outputs": [],
   "source": [
    "from script import *"
   ]
  },
  {
   "cell_type": "markdown",
   "metadata": {},
   "source": [
    "Ce document a pour but de rapporter l'étude de la classification des types des différents documents émis lors des procès contre les industries du tabac aux États-Unis."
   ]
  },
  {
   "cell_type": "markdown",
   "metadata": {},
   "source": [
    "Plan de l'étude :\n",
    "* Description statistique et analyse du jeu de données\n",
    "* Découpe / Préparation / Pré-Traitement des données\n",
    "* Apprentissages de classifieurs\n",
    "* Conclusion, dernières analyses et Pistes d'amélioration"
   ]
  },
  {
   "cell_type": "markdown",
   "metadata": {},
   "source": [
    "# 1. Analyse des données"
   ]
  },
  {
   "cell_type": "markdown",
   "metadata": {},
   "source": [
    "### Premières statistiques"
   ]
  },
  {
   "cell_type": "markdown",
   "metadata": {},
   "source": [
    "L'État américain a collecté plus de 14 millions de documents, ici nous disposons d'un échantillon de 3482 éléments précisemment. \n",
    "Nous devons établir un classifieur de documents, nous avons 10 types différents à différenciers : Email, Advertisement, Form, Letter, etc.\n",
    "Première constatation dans un premier temps : 3482 données ce n'est pas beaucoup, cela pourra plus tard poser des problèmes, surtout pour une classification multi-classes.\n"
   ]
  },
  {
   "cell_type": "markdown",
   "metadata": {},
   "source": [
    "Nous disposons comme données d'un .csv avec l'image_path et le label associé pour chacune. Nous disposons également des textes de ces images obtenus par OCR."
   ]
  },
  {
   "cell_type": "code",
   "execution_count": 2,
   "metadata": {},
   "outputs": [],
   "source": [
    "# Premiers Import nécessaires et Import des données.\n",
    "import pandas as pd\n",
    "csv_path = 'data/Tobacco3482.csv'\n",
    "data = pd.read_csv(csv_path, sep = \",\")"
   ]
  },
  {
   "cell_type": "markdown",
   "metadata": {},
   "source": [
    "On vérifie avec .describe() si on a bien 3482 données et s'il ya bien 10 labels différents :"
   ]
  },
  {
   "cell_type": "code",
   "execution_count": 3,
   "metadata": {},
   "outputs": [
    {
     "data": {
      "text/html": [
       "<div>\n",
       "<style scoped>\n",
       "    .dataframe tbody tr th:only-of-type {\n",
       "        vertical-align: middle;\n",
       "    }\n",
       "\n",
       "    .dataframe tbody tr th {\n",
       "        vertical-align: top;\n",
       "    }\n",
       "\n",
       "    .dataframe thead th {\n",
       "        text-align: right;\n",
       "    }\n",
       "</style>\n",
       "<table border=\"1\" class=\"dataframe\">\n",
       "  <thead>\n",
       "    <tr style=\"text-align: right;\">\n",
       "      <th></th>\n",
       "      <th>img_path</th>\n",
       "      <th>label</th>\n",
       "    </tr>\n",
       "  </thead>\n",
       "  <tbody>\n",
       "    <tr>\n",
       "      <th>count</th>\n",
       "      <td>3482</td>\n",
       "      <td>3482</td>\n",
       "    </tr>\n",
       "    <tr>\n",
       "      <th>unique</th>\n",
       "      <td>3482</td>\n",
       "      <td>10</td>\n",
       "    </tr>\n",
       "    <tr>\n",
       "      <th>top</th>\n",
       "      <td>Scientific/10073624.jpg</td>\n",
       "      <td>Memo</td>\n",
       "    </tr>\n",
       "    <tr>\n",
       "      <th>freq</th>\n",
       "      <td>1</td>\n",
       "      <td>620</td>\n",
       "    </tr>\n",
       "  </tbody>\n",
       "</table>\n",
       "</div>"
      ],
      "text/plain": [
       "                       img_path label\n",
       "count                      3482  3482\n",
       "unique                     3482    10\n",
       "top     Scientific/10073624.jpg  Memo\n",
       "freq                          1   620"
      ]
     },
     "execution_count": 3,
     "metadata": {},
     "output_type": "execute_result"
    }
   ],
   "source": [
    "data.describe(include='all')"
   ]
  },
  {
   "cell_type": "markdown",
   "metadata": {},
   "source": [
    "Il semble y avoir 3482 éléments également contenus dans les dossiers de textes obtenus par OCR donc on a pas de problèmes de cohérences de nombres de données entre le .csv et ces dernières."
   ]
  },
  {
   "cell_type": "markdown",
   "metadata": {},
   "source": [
    "### Répartition des données"
   ]
  },
  {
   "cell_type": "markdown",
   "metadata": {},
   "source": [
    "Analysons la répartition des données avec quelques statistiques descriptives. Tout d'abord piochons 10 données au hasard pour établir une première observation :\n"
   ]
  },
  {
   "cell_type": "code",
   "execution_count": 27,
   "metadata": {},
   "outputs": [
    {
     "data": {
      "text/html": [
       "<div>\n",
       "<style scoped>\n",
       "    .dataframe tbody tr th:only-of-type {\n",
       "        vertical-align: middle;\n",
       "    }\n",
       "\n",
       "    .dataframe tbody tr th {\n",
       "        vertical-align: top;\n",
       "    }\n",
       "\n",
       "    .dataframe thead th {\n",
       "        text-align: right;\n",
       "    }\n",
       "</style>\n",
       "<table border=\"1\" class=\"dataframe\">\n",
       "  <thead>\n",
       "    <tr style=\"text-align: right;\">\n",
       "      <th></th>\n",
       "      <th>img_path</th>\n",
       "      <th>label</th>\n",
       "    </tr>\n",
       "  </thead>\n",
       "  <tbody>\n",
       "    <tr>\n",
       "      <th>3013</th>\n",
       "      <td>Report/514120277.jpg</td>\n",
       "      <td>Report</td>\n",
       "    </tr>\n",
       "    <tr>\n",
       "      <th>614</th>\n",
       "      <td>Email/2085542332c.jpg</td>\n",
       "      <td>Email</td>\n",
       "    </tr>\n",
       "    <tr>\n",
       "      <th>642</th>\n",
       "      <td>Email/2085761260b.jpg</td>\n",
       "      <td>Email</td>\n",
       "    </tr>\n",
       "    <tr>\n",
       "      <th>3109</th>\n",
       "      <td>Resume/40005130-5131.jpg</td>\n",
       "      <td>Resume</td>\n",
       "    </tr>\n",
       "    <tr>\n",
       "      <th>590</th>\n",
       "      <td>Email/2085134821a.jpg</td>\n",
       "      <td>Email</td>\n",
       "    </tr>\n",
       "    <tr>\n",
       "      <th>2881</th>\n",
       "      <td>Report/502339200+-9201.jpg</td>\n",
       "      <td>Report</td>\n",
       "    </tr>\n",
       "    <tr>\n",
       "      <th>722</th>\n",
       "      <td>Email/527862259+-2259.jpg</td>\n",
       "      <td>Email</td>\n",
       "    </tr>\n",
       "    <tr>\n",
       "      <th>2909</th>\n",
       "      <td>Report/504330344_504330348.jpg</td>\n",
       "      <td>Report</td>\n",
       "    </tr>\n",
       "    <tr>\n",
       "      <th>2011</th>\n",
       "      <td>Memo/2024072051_2024072053.jpg</td>\n",
       "      <td>Memo</td>\n",
       "    </tr>\n",
       "    <tr>\n",
       "      <th>827</th>\n",
       "      <td>Email/81887335.jpg</td>\n",
       "      <td>Email</td>\n",
       "    </tr>\n",
       "  </tbody>\n",
       "</table>\n",
       "</div>"
      ],
      "text/plain": [
       "                            img_path   label\n",
       "3013            Report/514120277.jpg  Report\n",
       "614            Email/2085542332c.jpg   Email\n",
       "642            Email/2085761260b.jpg   Email\n",
       "3109        Resume/40005130-5131.jpg  Resume\n",
       "590            Email/2085134821a.jpg   Email\n",
       "2881      Report/502339200+-9201.jpg  Report\n",
       "722        Email/527862259+-2259.jpg   Email\n",
       "2909  Report/504330344_504330348.jpg  Report\n",
       "2011  Memo/2024072051_2024072053.jpg    Memo\n",
       "827               Email/81887335.jpg   Email"
      ]
     },
     "execution_count": 27,
     "metadata": {},
     "output_type": "execute_result"
    }
   ],
   "source": [
    "data.sample(10)"
   ]
  },
  {
   "cell_type": "markdown",
   "metadata": {},
   "source": [
    "Il semble y avoir plus d'emails que d'autres types de documents dans notre jeu de données. On note aussi en relançant la commande que pas mal de lettres ou encore de memos sont présents. Avons-nous une sur-représentation d'une ou plusieurs classe(s) particulière(s) ?\n",
    "\n",
    "On peut tracer le diagramme bâtons du nombre de documents par type de documents :"
   ]
  },
  {
   "cell_type": "code",
   "execution_count": 28,
   "metadata": {},
   "outputs": [
    {
     "name": "stdout",
     "output_type": "stream",
     "text": [
      "Memo             620\n",
      "Email            599\n",
      "Letter           567\n",
      "Form             431\n",
      "Report           265\n",
      "Scientific       261\n",
      "Advertisement    230\n",
      "Note             201\n",
      "News             188\n",
      "Resume           120\n",
      "Name: label, dtype: int64\n"
     ]
    },
    {
     "data": {
      "text/plain": [
       "<matplotlib.axes._subplots.AxesSubplot at 0x11bdcb9e8>"
      ]
     },
     "execution_count": 28,
     "metadata": {},
     "output_type": "execute_result"
    },
    {
     "data": {
      "image/png": "[encoded data removed]",
      "text/plain": [
       "<Figure size 432x288 with 1 Axes>"
      ]
     },
     "metadata": {
      "needs_background": "light"
     },
     "output_type": "display_data"
    }
   ],
   "source": [
    "repartition_numbers = data['label'].value_counts()\n",
    "print(repartition_numbers)\n",
    "repartition_numbers.plot.bar(title = 'Répartition des documents par label')"
   ]
  },
  {
   "cell_type": "markdown",
   "metadata": {},
   "source": [
    "Nous avons bel et bien 4 classes supérieures en nombre de données aux autres mais nous ne pouvons pas vraiment parler de sur-représensation.\n",
    "Le nombre de données restant globalement faible, si les résultats après apprentissage automatique de classifieurs ne sont pas satisfaisants, il faudrait augmenter ce nombre : avec de l'augmentation de données par exemple."
   ]
  },
  {
   "cell_type": "markdown",
   "metadata": {},
   "source": [
    "### Statistiques Textuelles sur les classes"
   ]
  },
  {
   "cell_type": "markdown",
   "metadata": {},
   "source": [
    "À partir des données OCR, **étudions le nombre de mots moyens par type de document :**"
   ]
  },
  {
   "cell_type": "code",
   "execution_count": 29,
   "metadata": {},
   "outputs": [
    {
     "data": {
      "image/png": "[encoded data removed]",
      "text/plain": [
       "<Figure size 864x288 with 1 Axes>"
      ]
     },
     "metadata": {
      "needs_background": "light"
     },
     "output_type": "display_data"
    }
   ],
   "source": [
    "dictionnary_word_average_number = count_average_number_of_words_per_class('data/Tobacco3482-OCR/')\n",
    "plt.figure(figsize=(12,4))\n",
    "plt.bar(range(len(dictionnary_word_average_number)), list(dictionnary_word_average_number.values()), align='center')\n",
    "plt.xticks(range(len(dictionnary_word_average_number)), list(dictionnary_word_average_number.keys()))\n",
    "plt.show()"
   ]
  },
  {
   "cell_type": "markdown",
   "metadata": {},
   "source": [
    "# 2. Pre-Processing et Découpe"
   ]
  },
  {
   "cell_type": "code",
   "execution_count": 30,
   "metadata": {},
   "outputs": [
    {
     "name": "stdout",
     "output_type": "stream",
     "text": [
      "taille de X : 3482\n",
      "taille de y : 3482\n",
      "Fabriqué 4 jeux de données depuis les données : X_train, X_val, X_test, X_trainval (X_train+X_val) \n",
      "taille de train : 2089\n",
      "taille de val : 696\n",
      "taille de trainval : 2785\n",
      "taille de test : 697\n"
     ]
    }
   ],
   "source": [
    "datasets = organize_and_split_data(csv_path)\n",
    "X_train = datasets[0]\n",
    "X_val = datasets[1]\n",
    "X_test = datasets[2]\n",
    "X_trainval = datasets[3]\n",
    "y_train = datasets[4]\n",
    "y_val = datasets[5]\n",
    "y_test = datasets[6]\n",
    "y_trainval = datasets[7]"
   ]
  },
  {
   "cell_type": "markdown",
   "metadata": {},
   "source": [
    "# 3. Tokenization et Entraînements"
   ]
  },
  {
   "cell_type": "code",
   "execution_count": 31,
   "metadata": {},
   "outputs": [
    {
     "name": "stdout",
     "output_type": "stream",
     "text": [
      "Tokenization...\n",
      "Terminé !\n",
      "\n",
      "Taille du vocabulaire :\n",
      "77566\n",
      "\n",
      "Nombre de sets retournés : 2\n",
      "TFIDF...\n",
      "Terminé !\n",
      "Nombre de sets retournés : 2\n"
     ]
    }
   ],
   "source": [
    "datasets_tokenized_idf = tokenizing_and_tfidf(X_trainval, X_test)\n",
    "X_trainval_tf = datasets_tokenized_idf[0]\n",
    "X_test_tf = datasets_tokenized_idf[1]"
   ]
  },
  {
   "cell_type": "markdown",
   "metadata": {},
   "source": [
    "## 1er entraînement :"
   ]
  },
  {
   "cell_type": "code",
   "execution_count": 32,
   "metadata": {},
   "outputs": [
    {
     "name": "stdout",
     "output_type": "stream",
     "text": [
      "Entraînement...\n",
      "Terminé !\n",
      "\n",
      "Evaluation par Cross-Validation (5) avec alpha = 1.0 :\n",
      "0.4692737729575612\n",
      "\n",
      "Précision/Score sur les données de Test : \n",
      "0.5150645624103299\n",
      "\n",
      "Matrice de Confusion :\n",
      "[[  6   0   0   0   0   0   0   0   0   0]\n",
      " [  0 112   0   0   0   1   1   0   0   0]\n",
      " [  3   0  38   0   0   6   7   1   0   7]\n",
      " [ 13   9   7  94  11  28   4  15  21  23]\n",
      " [ 23  15  38  29 107   5  29  19   0  23]\n",
      " [  0   0   0   0   0   0   0   0   0   0]\n",
      " [  0   0   0   0   0   0   0   0   0   0]\n",
      " [  0   0   0   0   0   0   0   0   0   0]\n",
      " [  0   0   0   0   0   0   0   0   2   0]\n",
      " [  0   0   0   0   0   0   0   0   0   0]]\n",
      "\n",
      "Rapport de classification :\n",
      "              precision    recall  f1-score   support\n",
      "\n",
      "           0       0.13      1.00      0.24         6\n",
      "           1       0.82      0.98      0.90       114\n",
      "           2       0.46      0.61      0.52        62\n",
      "           3       0.76      0.42      0.54       225\n",
      "           4       0.91      0.37      0.53       288\n",
      "           5       0.00      0.00      0.00         0\n",
      "           6       0.00      0.00      0.00         0\n",
      "           7       0.00      0.00      0.00         0\n",
      "           8       0.09      1.00      0.16         2\n",
      "           9       0.00      0.00      0.00         0\n",
      "\n",
      "   micro avg       0.52      0.52      0.52       697\n",
      "   macro avg       0.32      0.44      0.29       697\n",
      "weighted avg       0.80      0.52      0.59       697\n",
      "\n"
     ]
    }
   ],
   "source": [
    "first_MulNB = my_MultinomialNB(X_trainval_tf, X_test_tf, y_trainval, y_test)"
   ]
  },
  {
   "cell_type": "markdown",
   "metadata": {},
   "source": [
    "## Optimisation des Hyperparamètres :"
   ]
  },
  {
   "cell_type": "code",
   "execution_count": 33,
   "metadata": {},
   "outputs": [
    {
     "name": "stdout",
     "output_type": "stream",
     "text": [
      "Grid Search MultinomialNB en cours...\n",
      "Pipeline à suivre : ['vector', 'tfidf', 'clf']\n",
      "Paramètres à tester:\n",
      "{'clf__alpha': (0.01, 0.02, 0.05, 0.1, 0.2, 0.5, 0.7, 1.0),\n",
      " 'vector__max_df': (0.5, 0.7, 0.75, 0.8),\n",
      " 'vector__max_features': (1000, 1500, 2000)}\n",
      "Fitting 3 folds for each of 96 candidates, totalling 288 fits\n"
     ]
    },
    {
     "name": "stderr",
     "output_type": "stream",
     "text": [
      "[Parallel(n_jobs=-1)]: Using backend LokyBackend with 4 concurrent workers.\n",
      "[Parallel(n_jobs=-1)]: Done  42 tasks      | elapsed:   23.9s\n",
      "[Parallel(n_jobs=-1)]: Done 192 tasks      | elapsed:  1.8min\n",
      "[Parallel(n_jobs=-1)]: Done 288 out of 288 | elapsed:  2.6min finished\n"
     ]
    },
    {
     "name": "stdout",
     "output_type": "stream",
     "text": [
      "Terminé !\n",
      "\n",
      "Meilleurs paramètres : \n",
      "\tclf__alpha: 0.2\n",
      "\tvector__max_df: 0.8\n",
      "\tvector__max_features: 1000\n",
      "\n",
      "Meilleur score: 0.713\n"
     ]
    }
   ],
   "source": [
    "Optimisation_MultNB = Grid_Search_CV_MultinomialNB(X_trainval, y_trainval)"
   ]
  },
  {
   "cell_type": "markdown",
   "metadata": {},
   "source": [
    "## Entraînement optimisé MultinomialNB"
   ]
  },
  {
   "cell_type": "code",
   "execution_count": 34,
   "metadata": {},
   "outputs": [
    {
     "name": "stdout",
     "output_type": "stream",
     "text": [
      "Tokenization...\n",
      "Terminé !\n",
      "\n",
      "Taille du vocabulaire :\n",
      "1000\n",
      "\n",
      "Nombre de sets retournés : 2\n",
      "TFIDF...\n",
      "Terminé !\n",
      "Nombre de sets retournés : 2\n"
     ]
    }
   ],
   "source": [
    "datasets_tokenized_idf = tokenizing_and_tfidf(X_trainval, X_test, 1000, 0.8)\n",
    "X_trainval_tf = datasets_tokenized_idf[0]\n",
    "X_test_tf = datasets_tokenized_idf[1]"
   ]
  },
  {
   "cell_type": "code",
   "execution_count": 35,
   "metadata": {},
   "outputs": [
    {
     "name": "stdout",
     "output_type": "stream",
     "text": [
      "Entraînement...\n",
      "Terminé !\n",
      "\n",
      "Evaluation par Cross-Validation (5) avec alpha = 0.2 :\n",
      "0.7134447272522897\n",
      "\n",
      "Précision/Score sur les données de Test : \n",
      "0.7130559540889526\n",
      "\n",
      "Matrice de Confusion :\n",
      "[[ 22   0   2   0   0   5   2   0   0   1]\n",
      " [  0 120   1   0   3   1   3   0   0   0]\n",
      " [  3   1  65   1   2   3   7   4   0   9]\n",
      " [  2   5   3  88  14   0   4   4   0   1]\n",
      " [  7   9   5  27  93   1  12   9   0   3]\n",
      " [  4   1   1   1   1  29   0   2   0   0]\n",
      " [  7   0   5   1   0   0  12   0   0   1]\n",
      " [  0   0   1   4   1   0   1  10   0   3]\n",
      " [  0   0   0   0   0   0   0   0  23   0]\n",
      " [  0   0   0   1   4   1   0   6   0  35]]\n",
      "\n",
      "Rapport de classification :\n",
      "              precision    recall  f1-score   support\n",
      "\n",
      "           0       0.49      0.69      0.57        32\n",
      "           1       0.88      0.94      0.91       128\n",
      "           2       0.78      0.68      0.73        95\n",
      "           3       0.72      0.73      0.72       121\n",
      "           4       0.79      0.56      0.65       166\n",
      "           5       0.72      0.74      0.73        39\n",
      "           6       0.29      0.46      0.36        26\n",
      "           7       0.29      0.50      0.36        20\n",
      "           8       1.00      1.00      1.00        23\n",
      "           9       0.66      0.74      0.70        47\n",
      "\n",
      "   micro avg       0.71      0.71      0.71       697\n",
      "   macro avg       0.66      0.70      0.67       697\n",
      "weighted avg       0.74      0.71      0.72       697\n",
      "\n"
     ]
    }
   ],
   "source": [
    "final_MulNB = my_MultinomialNB(X_trainval_tf, X_test_tf, y_trainval, y_test,0.2)"
   ]
  },
  {
   "cell_type": "markdown",
   "metadata": {},
   "source": [
    "## Avec Bag of Words simplement :"
   ]
  },
  {
   "cell_type": "markdown",
   "metadata": {},
   "source": [
    "### 1er entraînement :"
   ]
  },
  {
   "cell_type": "code",
   "execution_count": 36,
   "metadata": {},
   "outputs": [
    {
     "name": "stdout",
     "output_type": "stream",
     "text": [
      "Tokenization...\n",
      "Terminé !\n",
      "\n",
      "Taille du vocabulaire :\n",
      "77566\n",
      "\n",
      "Nombre de sets retournés : 2\n"
     ]
    }
   ],
   "source": [
    "datasets_tokenized_bow = tokenizing(X_trainval, X_test)\n",
    "X_trainval_cv = datasets_tokenized_bow[0]\n",
    "X_test_cv = datasets_tokenized_bow[1]"
   ]
  },
  {
   "cell_type": "code",
   "execution_count": 37,
   "metadata": {},
   "outputs": [
    {
     "name": "stdout",
     "output_type": "stream",
     "text": [
      "Entraînement...\n",
      "Terminé !\n",
      "\n",
      "Evaluation par Cross-Validation (5) avec alpha = 1.0 :\n",
      "0.6384137848707525\n",
      "\n",
      "Précision/Score sur les données de Test : \n",
      "0.667144906743185\n",
      "\n",
      "Matrice de Confusion :\n",
      "[[ 11   0   1   0   0   1   0   0   0   0]\n",
      " [  0 106   0   0   0   0   1   0   0   0]\n",
      " [  8   0  57   0   0   4  15   1   0   8]\n",
      " [  6  18   4  98  17   0   6   9   0   2]\n",
      " [ 12  12  17  22 100   2  15  12   0  13]\n",
      " [  8   0   1   1   1  32   3   2   0   0]\n",
      " [  0   0   0   0   0   0   1   0   0   0]\n",
      " [  0   0   1   1   0   0   0   7   0   0]\n",
      " [  0   0   0   0   0   0   0   0  23   0]\n",
      " [  0   0   2   1   0   1   0   4   0  30]]\n",
      "\n",
      "Rapport de classification :\n",
      "              precision    recall  f1-score   support\n",
      "\n",
      "           0       0.24      0.85      0.38        13\n",
      "           1       0.78      0.99      0.87       107\n",
      "           2       0.69      0.61      0.65        93\n",
      "           3       0.80      0.61      0.69       160\n",
      "           4       0.85      0.49      0.62       205\n",
      "           5       0.80      0.67      0.73        48\n",
      "           6       0.02      1.00      0.05         1\n",
      "           7       0.20      0.78      0.32         9\n",
      "           8       1.00      1.00      1.00        23\n",
      "           9       0.57      0.79      0.66        38\n",
      "\n",
      "   micro avg       0.67      0.67      0.67       697\n",
      "   macro avg       0.59      0.78      0.60       697\n",
      "weighted avg       0.77      0.67      0.69       697\n",
      "\n"
     ]
    }
   ],
   "source": [
    "first_MulNB_bow = my_MultinomialNB(X_trainval_cv, X_test_cv, y_trainval, y_test)"
   ]
  },
  {
   "cell_type": "markdown",
   "metadata": {},
   "source": [
    "### Optimisation des Hyperparamètres :"
   ]
  },
  {
   "cell_type": "code",
   "execution_count": 14,
   "metadata": {},
   "outputs": [
    {
     "name": "stdout",
     "output_type": "stream",
     "text": [
      "Grid Search MultinomialNB en cours...\n",
      "Pipeline à suivre : ['vector', 'clf']\n",
      "Paramètres à tester:\n",
      "{'clf__alpha': (0.01, 0.02, 0.05, 0.1, 0.2, 0.5, 0.7, 1.0),\n",
      " 'vector__max_df': (0.1, 0.2, 0.5, 0.7, 0.75, 0.8),\n",
      " 'vector__max_features': (500, 1000, 1500, 2000)}\n",
      "Fitting 3 folds for each of 192 candidates, totalling 576 fits\n"
     ]
    },
    {
     "name": "stderr",
     "output_type": "stream",
     "text": [
      "[Parallel(n_jobs=-1)]: Using backend LokyBackend with 4 concurrent workers.\n",
      "[Parallel(n_jobs=-1)]: Done  42 tasks      | elapsed:   25.1s\n",
      "[Parallel(n_jobs=-1)]: Done 192 tasks      | elapsed:  1.8min\n",
      "[Parallel(n_jobs=-1)]: Done 442 tasks      | elapsed:  4.5min\n",
      "[Parallel(n_jobs=-1)]: Done 576 out of 576 | elapsed:  5.8min finished\n"
     ]
    },
    {
     "name": "stdout",
     "output_type": "stream",
     "text": [
      "Terminé !\n",
      "\n",
      "Meilleurs paramètres : \n",
      "\tclf__alpha: 0.05\n",
      "\tvector__max_df: 0.75\n",
      "\tvector__max_features: 2000\n",
      "\n",
      "Meilleur score: 0.725\n"
     ]
    }
   ],
   "source": [
    "Optimisation_MultNB_bow = Grid_Search_CV_MultinomialNB(X_trainval, y_trainval,3,False)"
   ]
  },
  {
   "cell_type": "markdown",
   "metadata": {},
   "source": [
    "### Entrainement Final BOW"
   ]
  },
  {
   "cell_type": "code",
   "execution_count": 38,
   "metadata": {},
   "outputs": [
    {
     "name": "stdout",
     "output_type": "stream",
     "text": [
      "Tokenization...\n",
      "Terminé !\n",
      "\n",
      "Taille du vocabulaire :\n",
      "2000\n",
      "\n",
      "Nombre de sets retournés : 2\n"
     ]
    }
   ],
   "source": [
    "datasets_tokenized_bow = tokenizing(X_trainval, X_test,2000,0.75)\n",
    "X_trainval_cv = datasets_tokenized_bow[0]\n",
    "X_test_cv = datasets_tokenized_bow[1]"
   ]
  },
  {
   "cell_type": "code",
   "execution_count": 39,
   "metadata": {},
   "outputs": [
    {
     "name": "stdout",
     "output_type": "stream",
     "text": [
      "Entraînement...\n",
      "Terminé !\n",
      "\n",
      "Evaluation par Cross-Validation (5) avec alpha = 0.05 :\n",
      "0.7213508949131535\n",
      "\n",
      "Précision/Score sur les données de Test : \n",
      "0.7388809182209469\n",
      "\n",
      "Matrice de Confusion :\n",
      "[[ 24   0   3   0   0   5   4   0   0   1]\n",
      " [  0 127   0   0   3   0   3   0   0   0]\n",
      " [  3   0  65   2   2   2   4   0   0   8]\n",
      " [  1   4   3  95  13   0   4   3   0   1]\n",
      " [  7   4   4  18  90   1  10   7   0   8]\n",
      " [  3   1   1   2   2  29   0   3   0   1]\n",
      " [  7   0   6   1   1   2  15   1   0   1]\n",
      " [  0   0   0   4   4   0   1  17   0   3]\n",
      " [  0   0   0   0   0   0   0   0  23   0]\n",
      " [  0   0   1   1   3   1   0   4   0  30]]\n",
      "\n",
      "Rapport de classification :\n",
      "              precision    recall  f1-score   support\n",
      "\n",
      "           0       0.53      0.65      0.59        37\n",
      "           1       0.93      0.95      0.94       133\n",
      "           2       0.78      0.76      0.77        86\n",
      "           3       0.77      0.77      0.77       124\n",
      "           4       0.76      0.60      0.67       149\n",
      "           5       0.72      0.69      0.71        42\n",
      "           6       0.37      0.44      0.40        34\n",
      "           7       0.49      0.59      0.53        29\n",
      "           8       1.00      1.00      1.00        23\n",
      "           9       0.57      0.75      0.65        40\n",
      "\n",
      "   micro avg       0.74      0.74      0.74       697\n",
      "   macro avg       0.69      0.72      0.70       697\n",
      "weighted avg       0.75      0.74      0.74       697\n",
      "\n"
     ]
    }
   ],
   "source": [
    "final_MulNB_bow = my_MultinomialNB(X_trainval_cv, X_test_cv, y_trainval, y_test, 0.05)"
   ]
  },
  {
   "cell_type": "markdown",
   "metadata": {},
   "source": [
    "### Deep Learning / MLP Classifier TF-IDF"
   ]
  },
  {
   "cell_type": "code",
   "execution_count": 40,
   "metadata": {},
   "outputs": [
    {
     "name": "stdout",
     "output_type": "stream",
     "text": [
      "Tokenization...\n",
      "Terminé !\n",
      "\n",
      "Taille du vocabulaire :\n",
      "2000\n",
      "\n",
      "Nombre de sets retournés : 2\n",
      "TFIDF...\n",
      "Terminé !\n",
      "Nombre de sets retournés : 2\n"
     ]
    }
   ],
   "source": [
    "datasets_tokenized_idf = tokenizing_and_tfidf(X_trainval, X_test, 2000, 0.80)\n",
    "X_trainval_tf = datasets_tokenized_idf[0]\n",
    "X_test_tf = datasets_tokenized_idf[1]"
   ]
  },
  {
   "cell_type": "code",
   "execution_count": 41,
   "metadata": {},
   "outputs": [
    {
     "name": "stdout",
     "output_type": "stream",
     "text": [
      "Iteration 1, loss = 2.25689994\n",
      "Validation score: 0.354839\n",
      "Iteration 2, loss = 2.09381729\n",
      "Validation score: 0.480287\n",
      "Iteration 3, loss = 1.90010940\n",
      "Validation score: 0.544803\n",
      "Iteration 4, loss = 1.69537790\n",
      "Validation score: 0.609319\n",
      "Iteration 5, loss = 1.49011713\n",
      "Validation score: 0.645161\n",
      "Iteration 6, loss = 1.29547407\n",
      "Validation score: 0.684588\n",
      "Iteration 7, loss = 1.12509222\n",
      "Validation score: 0.716846\n",
      "Iteration 8, loss = 0.98290996\n",
      "Validation score: 0.727599\n",
      "Iteration 9, loss = 0.86478987\n",
      "Validation score: 0.759857\n",
      "Iteration 10, loss = 0.76713597\n",
      "Validation score: 0.781362\n",
      "Iteration 11, loss = 0.68622309\n",
      "Validation score: 0.795699\n",
      "Iteration 12, loss = 0.61797642\n",
      "Validation score: 0.795699\n",
      "Iteration 13, loss = 0.55865713\n",
      "Validation score: 0.795699\n",
      "Iteration 14, loss = 0.50691713\n",
      "Validation score: 0.795699\n",
      "Iteration 15, loss = 0.46251226\n",
      "Validation score: 0.813620\n",
      "Iteration 16, loss = 0.42153406\n",
      "Validation score: 0.802867\n",
      "Iteration 17, loss = 0.38569751\n",
      "Validation score: 0.817204\n",
      "Iteration 18, loss = 0.35366461\n",
      "Validation score: 0.817204\n",
      "Iteration 19, loss = 0.32425514\n",
      "Validation score: 0.810036\n",
      "Iteration 20, loss = 0.29837378\n",
      "Validation score: 0.813620\n",
      "Iteration 21, loss = 0.27447309\n",
      "Validation score: 0.810036\n",
      "Iteration 22, loss = 0.25331183\n",
      "Validation score: 0.813620\n",
      "Iteration 23, loss = 0.23403876\n",
      "Validation score: 0.810036\n",
      "Iteration 24, loss = 0.21641563\n",
      "Validation score: 0.817204\n",
      "Iteration 25, loss = 0.20041082\n",
      "Validation score: 0.817204\n",
      "Iteration 26, loss = 0.18606350\n",
      "Validation score: 0.824373\n",
      "Iteration 27, loss = 0.17298363\n",
      "Validation score: 0.817204\n",
      "Iteration 28, loss = 0.16126504\n",
      "Validation score: 0.820789\n",
      "Iteration 29, loss = 0.15057773\n",
      "Validation score: 0.824373\n",
      "Iteration 30, loss = 0.14030498\n",
      "Validation score: 0.817204\n",
      "Iteration 31, loss = 0.13133678\n",
      "Validation score: 0.824373\n",
      "Iteration 32, loss = 0.12329362\n",
      "Validation score: 0.820789\n",
      "Iteration 33, loss = 0.11576141\n",
      "Validation score: 0.810036\n",
      "Iteration 34, loss = 0.10881202\n",
      "Validation score: 0.820789\n",
      "Iteration 35, loss = 0.10259002\n",
      "Validation score: 0.817204\n",
      "Iteration 36, loss = 0.09686820\n",
      "Validation score: 0.817204\n",
      "Iteration 37, loss = 0.09180548\n",
      "Validation score: 0.817204\n",
      "Validation score did not improve more than tol=0.000100 for 10 consecutive epochs. Stopping.\n",
      "\n",
      "Précision/Score sur les données de Test : \n",
      "0.7776183644189383\n",
      "\n",
      "              precision    recall  f1-score   support\n",
      "\n",
      "           0       0.56      0.78      0.65        32\n",
      "           1       0.92      0.96      0.94       130\n",
      "           2       0.89      0.76      0.82        98\n",
      "           3       0.82      0.75      0.79       134\n",
      "           4       0.78      0.73      0.75       126\n",
      "           5       0.75      0.73      0.74        41\n",
      "           6       0.56      0.53      0.55        43\n",
      "           7       0.37      0.59      0.46        22\n",
      "           8       1.00      1.00      1.00        23\n",
      "           9       0.68      0.75      0.71        48\n",
      "\n",
      "   micro avg       0.78      0.78      0.78       697\n",
      "   macro avg       0.73      0.76      0.74       697\n",
      "weighted avg       0.79      0.78      0.78       697\n",
      "\n",
      "\n",
      "[[ 25   0   1   0   0   2   4   0   0   0]\n",
      " [  0 125   0   0   2   1   2   0   0   0]\n",
      " [  2   0  74   2   2   2   3   4   0   9]\n",
      " [  0   5   1 101  13   1   4   6   0   3]\n",
      " [  2   6   1  13  92   1   4   5   0   2]\n",
      " [  2   0   1   1   4  30   1   2   0   0]\n",
      " [ 13   0   4   1   0   0  23   1   0   1]\n",
      " [  1   0   1   3   1   1   0  13   0   2]\n",
      " [  0   0   0   0   0   0   0   0  23   0]\n",
      " [  0   0   0   2   4   2   0   4   0  36]]\n"
     ]
    }
   ],
   "source": [
    "first_mlp_tfidf = my_MLP(X_trainval_tf, X_test_tf, y_trainval, y_test, 0.0001, 'relu',100 ,True, True, 'auto')"
   ]
  },
  {
   "cell_type": "markdown",
   "metadata": {},
   "source": [
    "### Optimisation Hyperparamètres"
   ]
  },
  {
   "cell_type": "code",
   "execution_count": 18,
   "metadata": {},
   "outputs": [
    {
     "name": "stdout",
     "output_type": "stream",
     "text": [
      "Grid Search MLP en cours...\n",
      "Pipeline à suivre : ['mlp']\n",
      "Paramètres à tester:\n",
      "{'mlp__activation': ('relu', 'logistic'), 'mlp__batch_size': (50, 100)}\n",
      "Fitting 2 folds for each of 4 candidates, totalling 8 fits\n"
     ]
    },
    {
     "name": "stderr",
     "output_type": "stream",
     "text": [
      "[Parallel(n_jobs=-1)]: Using backend LokyBackend with 4 concurrent workers.\n",
      "[Parallel(n_jobs=-1)]: Done   8 out of   8 | elapsed:  2.7min finished\n"
     ]
    },
    {
     "name": "stdout",
     "output_type": "stream",
     "text": [
      "Terminé !\n",
      "\n",
      "Meilleurs paramètres : \n",
      "\tmlp__activation: 'logistic'\n",
      "\tmlp__batch_size: 50\n",
      "\n",
      "Meilleur score: 0.761\n"
     ]
    }
   ],
   "source": [
    "Optimisation_MLP_tfidf = Grid_Search_CV_MLP(X_trainval_tf, y_trainval,2)"
   ]
  },
  {
   "cell_type": "markdown",
   "metadata": {},
   "source": [
    "### Entrainement Final DL - TFIDF"
   ]
  },
  {
   "cell_type": "code",
   "execution_count": 42,
   "metadata": {},
   "outputs": [
    {
     "name": "stdout",
     "output_type": "stream",
     "text": [
      "Iteration 1, loss = 2.17435452\n",
      "Validation score: 0.279570\n",
      "Iteration 2, loss = 2.08479468\n",
      "Validation score: 0.405018\n",
      "Iteration 3, loss = 2.00576309\n",
      "Validation score: 0.469534\n",
      "Iteration 4, loss = 1.91351482\n",
      "Validation score: 0.444444\n",
      "Iteration 5, loss = 1.80374910\n",
      "Validation score: 0.537634\n",
      "Iteration 6, loss = 1.67901232\n",
      "Validation score: 0.634409\n",
      "Iteration 7, loss = 1.55452296\n",
      "Validation score: 0.605735\n",
      "Iteration 8, loss = 1.42735403\n",
      "Validation score: 0.645161\n",
      "Iteration 9, loss = 1.30958427\n",
      "Validation score: 0.684588\n",
      "Iteration 10, loss = 1.19981167\n",
      "Validation score: 0.706093\n",
      "Iteration 11, loss = 1.10263250\n",
      "Validation score: 0.724014\n",
      "Iteration 12, loss = 1.01450640\n",
      "Validation score: 0.727599\n",
      "Iteration 13, loss = 0.93865186\n",
      "Validation score: 0.741935\n",
      "Iteration 14, loss = 0.86964208\n",
      "Validation score: 0.752688\n",
      "Iteration 15, loss = 0.80905079\n",
      "Validation score: 0.749104\n",
      "Iteration 16, loss = 0.75509574\n",
      "Validation score: 0.777778\n",
      "Iteration 17, loss = 0.70681450\n",
      "Validation score: 0.784946\n",
      "Iteration 18, loss = 0.66568579\n",
      "Validation score: 0.795699\n",
      "Iteration 19, loss = 0.62403325\n",
      "Validation score: 0.799283\n",
      "Iteration 20, loss = 0.58844255\n",
      "Validation score: 0.799283\n",
      "Iteration 21, loss = 0.55623822\n",
      "Validation score: 0.810036\n",
      "Iteration 22, loss = 0.52634960\n",
      "Validation score: 0.799283\n",
      "Iteration 23, loss = 0.49764241\n",
      "Validation score: 0.810036\n",
      "Iteration 24, loss = 0.47195974\n",
      "Validation score: 0.806452\n",
      "Iteration 25, loss = 0.44846946\n",
      "Validation score: 0.813620\n",
      "Iteration 26, loss = 0.42576773\n",
      "Validation score: 0.817204\n",
      "Iteration 27, loss = 0.40496997\n",
      "Validation score: 0.806452\n",
      "Iteration 28, loss = 0.38519369\n",
      "Validation score: 0.820789\n",
      "Iteration 29, loss = 0.36688680\n",
      "Validation score: 0.817204\n",
      "Iteration 30, loss = 0.34991816\n",
      "Validation score: 0.813620\n",
      "Iteration 31, loss = 0.33358772\n",
      "Validation score: 0.806452\n",
      "Iteration 32, loss = 0.31886544\n",
      "Validation score: 0.813620\n",
      "Iteration 33, loss = 0.30319979\n",
      "Validation score: 0.820789\n",
      "Iteration 34, loss = 0.29006715\n",
      "Validation score: 0.827957\n",
      "Iteration 35, loss = 0.27730740\n",
      "Validation score: 0.824373\n",
      "Iteration 36, loss = 0.26455967\n",
      "Validation score: 0.824373\n",
      "Iteration 37, loss = 0.25376391\n",
      "Validation score: 0.824373\n",
      "Iteration 38, loss = 0.24261141\n",
      "Validation score: 0.831541\n",
      "Iteration 39, loss = 0.23193207\n",
      "Validation score: 0.820789\n",
      "Iteration 40, loss = 0.22186062\n",
      "Validation score: 0.827957\n",
      "Iteration 41, loss = 0.21308087\n",
      "Validation score: 0.827957\n",
      "Iteration 42, loss = 0.20498268\n",
      "Validation score: 0.820789\n",
      "Iteration 43, loss = 0.19633174\n",
      "Validation score: 0.827957\n",
      "Iteration 44, loss = 0.18845166\n",
      "Validation score: 0.820789\n",
      "Iteration 45, loss = 0.18139537\n",
      "Validation score: 0.817204\n",
      "Iteration 46, loss = 0.17442217\n",
      "Validation score: 0.824373\n",
      "Iteration 47, loss = 0.16807457\n",
      "Validation score: 0.827957\n",
      "Iteration 48, loss = 0.16221668\n",
      "Validation score: 0.827957\n",
      "Iteration 49, loss = 0.15624671\n",
      "Validation score: 0.831541\n",
      "Validation score did not improve more than tol=0.000100 for 10 consecutive epochs. Stopping.\n",
      "\n",
      "Précision/Score sur les données de Test : \n",
      "0.7833572453371592\n",
      "\n",
      "              precision    recall  f1-score   support\n",
      "\n",
      "           0       0.53      0.80      0.64        30\n",
      "           1       0.92      0.97      0.94       129\n",
      "           2       0.87      0.75      0.80        96\n",
      "           3       0.80      0.78      0.79       126\n",
      "           4       0.83      0.74      0.78       132\n",
      "           5       0.75      0.83      0.79        36\n",
      "           6       0.63      0.50      0.56        52\n",
      "           7       0.40      0.56      0.47        25\n",
      "           8       1.00      1.00      1.00        23\n",
      "           9       0.68      0.75      0.71        48\n",
      "\n",
      "   micro avg       0.78      0.78      0.78       697\n",
      "   macro avg       0.74      0.77      0.75       697\n",
      "weighted avg       0.79      0.78      0.79       697\n",
      "\n",
      "\n",
      "[[ 24   0   1   0   0   2   3   0   0   0]\n",
      " [  0 125   0   0   2   0   2   0   0   0]\n",
      " [  2   0  72   2   2   2   3   4   0   9]\n",
      " [  1   5   0  98  10   1   4   6   0   1]\n",
      " [  1   6   2  15  98   1   3   4   0   2]\n",
      " [  2   0   1   1   1  30   0   1   0   0]\n",
      " [ 15   0   6   1   1   1  26   1   0   1]\n",
      " [  0   0   0   4   2   1   0  14   0   4]\n",
      " [  0   0   0   0   0   0   0   0  23   0]\n",
      " [  0   0   1   2   2   2   0   5   0  36]]\n"
     ]
    }
   ],
   "source": [
    "final_mlp_tfidf = my_MLP(X_trainval_tf, X_test_tf, y_trainval, y_test, 0.0001, 'logistic',100 ,True, True, 50)"
   ]
  },
  {
   "cell_type": "markdown",
   "metadata": {},
   "source": [
    "### DL - BOW"
   ]
  },
  {
   "cell_type": "code",
   "execution_count": 43,
   "metadata": {},
   "outputs": [
    {
     "name": "stdout",
     "output_type": "stream",
     "text": [
      "Tokenization...\n",
      "Terminé !\n",
      "\n",
      "Taille du vocabulaire :\n",
      "2000\n",
      "\n",
      "Nombre de sets retournés : 2\n"
     ]
    }
   ],
   "source": [
    "datasets_tokenized_bow = tokenizing(X_trainval, X_test,2000,0.75)\n",
    "X_trainval_cv = datasets_tokenized_bow[0]\n",
    "X_test_cv = datasets_tokenized_bow[1]"
   ]
  },
  {
   "cell_type": "markdown",
   "metadata": {},
   "source": [
    "### 1er entraînement"
   ]
  },
  {
   "cell_type": "code",
   "execution_count": 44,
   "metadata": {},
   "outputs": [
    {
     "name": "stdout",
     "output_type": "stream",
     "text": [
      "Iteration 1, loss = 1.92434087\n",
      "Validation score: 0.623656\n",
      "Iteration 2, loss = 1.15218400\n",
      "Validation score: 0.716846\n",
      "Iteration 3, loss = 0.77590377\n",
      "Validation score: 0.788530\n",
      "Iteration 4, loss = 0.56883509\n",
      "Validation score: 0.802867\n",
      "Iteration 5, loss = 0.44259638\n",
      "Validation score: 0.802867\n",
      "Iteration 6, loss = 0.35956519\n",
      "Validation score: 0.799283\n",
      "Iteration 7, loss = 0.29885061\n",
      "Validation score: 0.813620\n",
      "Iteration 8, loss = 0.25525829\n",
      "Validation score: 0.795699\n",
      "Iteration 9, loss = 0.22032924\n",
      "Validation score: 0.810036\n",
      "Iteration 10, loss = 0.19264041\n",
      "Validation score: 0.813620\n",
      "Iteration 11, loss = 0.17018337\n",
      "Validation score: 0.820789\n",
      "Iteration 12, loss = 0.15155542\n",
      "Validation score: 0.813620\n",
      "Iteration 13, loss = 0.13613187\n",
      "Validation score: 0.820789\n",
      "Iteration 14, loss = 0.12286913\n",
      "Validation score: 0.817204\n",
      "Iteration 15, loss = 0.11164829\n",
      "Validation score: 0.810036\n",
      "Iteration 16, loss = 0.10168763\n",
      "Validation score: 0.813620\n",
      "Iteration 17, loss = 0.09347695\n",
      "Validation score: 0.802867\n",
      "Iteration 18, loss = 0.08612329\n",
      "Validation score: 0.806452\n",
      "Iteration 19, loss = 0.07962069\n",
      "Validation score: 0.799283\n",
      "Iteration 20, loss = 0.07426076\n",
      "Validation score: 0.806452\n",
      "Iteration 21, loss = 0.06909662\n",
      "Validation score: 0.810036\n",
      "Iteration 22, loss = 0.06480842\n",
      "Validation score: 0.802867\n",
      "Validation score did not improve more than tol=0.000100 for 10 consecutive epochs. Stopping.\n",
      "\n",
      "Précision/Score sur les données de Test : \n",
      "0.7962697274031564\n",
      "\n",
      "              precision    recall  f1-score   support\n",
      "\n",
      "           0       0.49      0.69      0.57        32\n",
      "           1       0.97      0.96      0.96       138\n",
      "           2       0.90      0.76      0.82        99\n",
      "           3       0.81      0.79      0.80       126\n",
      "           4       0.81      0.76      0.79       126\n",
      "           5       0.78      0.94      0.85        33\n",
      "           6       0.73      0.55      0.62        55\n",
      "           7       0.40      0.56      0.47        25\n",
      "           8       1.00      1.00      1.00        23\n",
      "           9       0.60      0.80      0.69        40\n",
      "\n",
      "   micro avg       0.80      0.80      0.80       697\n",
      "   macro avg       0.75      0.78      0.76       697\n",
      "weighted avg       0.81      0.80      0.80       697\n",
      "\n",
      "\n",
      "[[ 22   2   2   1   0   3   1   0   0   1]\n",
      " [  0 132   1   0   2   1   2   0   0   0]\n",
      " [  2   0  75   2   2   2   2   4   0  10]\n",
      " [  0   1   0 100  12   0   2   7   0   4]\n",
      " [  1   1   2  14  96   1   3   6   0   2]\n",
      " [  1   0   0   0   0  31   0   1   0   0]\n",
      " [ 18   0   3   1   2   1  30   0   0   0]\n",
      " [  1   0   0   4   1   1   0  14   0   4]\n",
      " [  0   0   0   0   0   0   0   0  23   0]\n",
      " [  0   0   0   1   3   0   1   3   0  32]]\n"
     ]
    }
   ],
   "source": [
    "first_mlp_bow = my_MLP(X_trainval_cv, X_test_cv, y_trainval, y_test, 0.0001, 'relu',100 ,True, True, 'auto')"
   ]
  },
  {
   "cell_type": "markdown",
   "metadata": {},
   "source": [
    "### Optimisation Hyperparamètres"
   ]
  },
  {
   "cell_type": "code",
   "execution_count": 22,
   "metadata": {},
   "outputs": [
    {
     "name": "stdout",
     "output_type": "stream",
     "text": [
      "Grid Search MLP en cours...\n",
      "Pipeline à suivre : ['mlp']\n",
      "Paramètres à tester:\n",
      "{'mlp__activation': ('relu', 'tanh'), 'mlp__batch_size': (50, 150, 200)}\n",
      "Fitting 5 folds for each of 6 candidates, totalling 30 fits\n"
     ]
    },
    {
     "name": "stderr",
     "output_type": "stream",
     "text": [
      "[Parallel(n_jobs=-1)]: Using backend LokyBackend with 4 concurrent workers.\n",
      "[Parallel(n_jobs=-1)]: Done  30 out of  30 | elapsed:  6.8min finished\n"
     ]
    },
    {
     "name": "stdout",
     "output_type": "stream",
     "text": [
      "Terminé !\n",
      "\n",
      "Meilleurs paramètres : \n",
      "\tmlp__activation: 'relu'\n",
      "\tmlp__batch_size: 200\n",
      "\n",
      "Meilleur score: 0.768\n"
     ]
    }
   ],
   "source": [
    "Optimisation_MLP_bow = Grid_Search_CV_MLP(X_trainval_cv, y_trainval,5)"
   ]
  },
  {
   "cell_type": "markdown",
   "metadata": {},
   "source": [
    "### Entraînement Final DL BOW"
   ]
  },
  {
   "cell_type": "code",
   "execution_count": 45,
   "metadata": {},
   "outputs": [
    {
     "name": "stdout",
     "output_type": "stream",
     "text": [
      "Iteration 1, loss = 1.92434087\n",
      "Validation score: 0.623656\n",
      "Iteration 2, loss = 1.15218400\n",
      "Validation score: 0.716846\n",
      "Iteration 3, loss = 0.77590377\n",
      "Validation score: 0.788530\n",
      "Iteration 4, loss = 0.56883509\n",
      "Validation score: 0.802867\n",
      "Iteration 5, loss = 0.44259638\n",
      "Validation score: 0.802867\n",
      "Iteration 6, loss = 0.35956519\n",
      "Validation score: 0.799283\n",
      "Iteration 7, loss = 0.29885061\n",
      "Validation score: 0.813620\n",
      "Iteration 8, loss = 0.25525829\n",
      "Validation score: 0.795699\n",
      "Iteration 9, loss = 0.22032924\n",
      "Validation score: 0.810036\n",
      "Iteration 10, loss = 0.19264041\n",
      "Validation score: 0.813620\n",
      "Iteration 11, loss = 0.17018337\n",
      "Validation score: 0.820789\n",
      "Iteration 12, loss = 0.15155542\n",
      "Validation score: 0.813620\n",
      "Iteration 13, loss = 0.13613187\n",
      "Validation score: 0.820789\n",
      "Iteration 14, loss = 0.12286913\n",
      "Validation score: 0.817204\n",
      "Iteration 15, loss = 0.11164829\n",
      "Validation score: 0.810036\n",
      "Iteration 16, loss = 0.10168763\n",
      "Validation score: 0.813620\n",
      "Iteration 17, loss = 0.09347695\n",
      "Validation score: 0.802867\n",
      "Iteration 18, loss = 0.08612329\n",
      "Validation score: 0.806452\n",
      "Iteration 19, loss = 0.07962069\n",
      "Validation score: 0.799283\n",
      "Iteration 20, loss = 0.07426076\n",
      "Validation score: 0.806452\n",
      "Iteration 21, loss = 0.06909662\n",
      "Validation score: 0.810036\n",
      "Iteration 22, loss = 0.06480842\n",
      "Validation score: 0.802867\n",
      "Validation score did not improve more than tol=0.000100 for 10 consecutive epochs. Stopping.\n",
      "\n",
      "Précision/Score sur les données de Test : \n",
      "0.7962697274031564\n",
      "\n",
      "              precision    recall  f1-score   support\n",
      "\n",
      "           0       0.49      0.69      0.57        32\n",
      "           1       0.97      0.96      0.96       138\n",
      "           2       0.90      0.76      0.82        99\n",
      "           3       0.81      0.79      0.80       126\n",
      "           4       0.81      0.76      0.79       126\n",
      "           5       0.78      0.94      0.85        33\n",
      "           6       0.73      0.55      0.62        55\n",
      "           7       0.40      0.56      0.47        25\n",
      "           8       1.00      1.00      1.00        23\n",
      "           9       0.60      0.80      0.69        40\n",
      "\n",
      "   micro avg       0.80      0.80      0.80       697\n",
      "   macro avg       0.75      0.78      0.76       697\n",
      "weighted avg       0.81      0.80      0.80       697\n",
      "\n",
      "\n",
      "[[ 22   2   2   1   0   3   1   0   0   1]\n",
      " [  0 132   1   0   2   1   2   0   0   0]\n",
      " [  2   0  75   2   2   2   2   4   0  10]\n",
      " [  0   1   0 100  12   0   2   7   0   4]\n",
      " [  1   1   2  14  96   1   3   6   0   2]\n",
      " [  1   0   0   0   0  31   0   1   0   0]\n",
      " [ 18   0   3   1   2   1  30   0   0   0]\n",
      " [  1   0   0   4   1   1   0  14   0   4]\n",
      " [  0   0   0   0   0   0   0   0  23   0]\n",
      " [  0   0   0   1   3   0   1   3   0  32]]\n"
     ]
    }
   ],
   "source": [
    "final_mlp_bow = my_MLP(X_trainval_cv, X_test_cv, y_trainval, y_test, 0.0001, 'relu',100 ,True, True, 200)"
   ]
  },
  {
   "cell_type": "markdown",
   "metadata": {},
   "source": [
    "# Conclusion"
   ]
  },
  {
   "cell_type": "markdown",
   "metadata": {},
   "source": [
    "Pour conclure, nous avons réalisé plusieurs classifiers et il semble que les méthodes utilisant le Deep Learning soient le plus efficaces. De même, on peut constater que parfois appliquer une TF-IDF ne permet pas de progresser dans la classification et qu'un simple modèle Bag of Words suffit.\n",
    "À retenir également aussi qu'il est important de choisir un nombre max de features lorsque l'on construit un vocabulaire, cela a une influence non-négligeable sur les résultats finaux.\n",
    "\n",
    "Ces résultats d'environ 80% sont satisfaisants mais nous pouvons aller plus loin :\n",
    "* Améliorer l'OCR pour une meilleur reconnaissance des mots et gagner en classification.\n",
    "* Augmenter le nombre de données disponibles, il n'y en a pas assez pour certaines classes qui sont parfois sous-représentées par rapport à d'autres.\n",
    "* Utiliser un autre modèle de représentation pour les textes comme des Embeddings.\n",
    "* Utiliser des réseaux de neurones plus complexes comme les LSTM, notamment avec le framework Keras.\n",
    "* Posséder un peu plus de puissance de calcul afin de tuner beaucoup plus d'hyper-paramètres."
   ]
  }
 ],
 "metadata": {
  "kernelspec": {
   "display_name": "Python 3",
   "language": "python",
   "name": "python3"
  },
  "language_info": {
   "codemirror_mode": {
    "name": "ipython",
    "version": 3
   },
   "file_extension": ".py",
   "mimetype": "text/x-python",
   "name": "python",
   "nbconvert_exporter": "python",
   "pygments_lexer": "ipython3",
   "version": "3.6.6"
  }
 },
 "nbformat": 4,
 "nbformat_minor": 2
}
