{
 "cells": [
  {
   "cell_type": "markdown",
   "metadata": {},
   "source": [
    "# Tobacco Documents Classification"
   ]
  },
  {
   "cell_type": "markdown",
   "metadata": {},
   "source": [
    "# Mathieu VANDECASTEELE - MASTER SID 2018-2019"
   ]
  },
  {
   "cell_type": "markdown",
   "metadata": {},
   "source": [
    "## Université de Rouen"
   ]
  },
  {
   "cell_type": "markdown",
   "metadata": {},
   "source": [
    "Joint à ce rapport : scripts Python"
   ]
  },
  {
   "cell_type": "code",
   "execution_count": 1,
   "metadata": {},
   "outputs": [],
   "source": [
    "from script import *"
   ]
  },
  {
   "cell_type": "markdown",
   "metadata": {},
   "source": [
    "Ce document a pour but de rapporter l'étude de la classification des types des différents documents émis lors des procès contre les industries du tabac aux États-Unis."
   ]
  },
  {
   "cell_type": "markdown",
   "metadata": {},
   "source": [
    "Plan de l'étude :\n",
    "* Description statistique et analyse du jeu de données\n",
    "* Découpe / Préparation / Pré-Traitement des données\n",
    "* Apprentissages de classifieurs\n",
    "* Conclusion, dernières analyses et Pistes d'amélioration"
   ]
  },
  {
   "cell_type": "markdown",
   "metadata": {},
   "source": [
    "# 1. Analyse des données"
   ]
  },
  {
   "cell_type": "markdown",
   "metadata": {},
   "source": [
    "### Premières statistiques"
   ]
  },
  {
   "cell_type": "markdown",
   "metadata": {},
   "source": [
    "L'État américain a collecté plus de 14 millions de documents, ici nous disposons d'un échantillon de 3482 éléments précisemment. \n",
    "Nous devons établir un classifieur de documents, nous avons 10 types différents à différenciers : Email, Advertisement, Form, Letter, etc.\n",
    "Première constatation dans un premier temps : 3482 données ce n'est pas beaucoup, cela pourra plus tard poser des problèmes, surtout pour une classification multi-classes.\n"
   ]
  },
  {
   "cell_type": "markdown",
   "metadata": {},
   "source": [
    "Nous disposons comme données d'un .csv avec l'image_path et le label associé pour chacune. Nous disposons également des textes de ces images obtenus par OCR."
   ]
  },
  {
   "cell_type": "code",
   "execution_count": 2,
   "metadata": {},
   "outputs": [],
   "source": [
    "# Premiers Import nécessaires et Import des données.\n",
    "import pandas as pd\n",
    "csv_path = 'tobacco-lab/data/Tobacco3482.csv'\n",
    "data = pd.read_csv(csv_path, sep = \",\")"
   ]
  },
  {
   "cell_type": "markdown",
   "metadata": {},
   "source": [
    "On vérifie avec .describe() si on a bien 3482 données et s'il ya bien 10 labels différents :"
   ]
  },
  {
   "cell_type": "code",
   "execution_count": 3,
   "metadata": {},
   "outputs": [
    {
     "data": {
      "text/html": [
       "<div>\n",
       "<style scoped>\n",
       "    .dataframe tbody tr th:only-of-type {\n",
       "        vertical-align: middle;\n",
       "    }\n",
       "\n",
       "    .dataframe tbody tr th {\n",
       "        vertical-align: top;\n",
       "    }\n",
       "\n",
       "    .dataframe thead th {\n",
       "        text-align: right;\n",
       "    }\n",
       "</style>\n",
       "<table border=\"1\" class=\"dataframe\">\n",
       "  <thead>\n",
       "    <tr style=\"text-align: right;\">\n",
       "      <th></th>\n",
       "      <th>img_path</th>\n",
       "      <th>label</th>\n",
       "    </tr>\n",
       "  </thead>\n",
       "  <tbody>\n",
       "    <tr>\n",
       "      <th>count</th>\n",
       "      <td>3482</td>\n",
       "      <td>3482</td>\n",
       "    </tr>\n",
       "    <tr>\n",
       "      <th>unique</th>\n",
       "      <td>3482</td>\n",
       "      <td>10</td>\n",
       "    </tr>\n",
       "    <tr>\n",
       "      <th>top</th>\n",
       "      <td>Advertisement/04412344.jpg</td>\n",
       "      <td>Memo</td>\n",
       "    </tr>\n",
       "    <tr>\n",
       "      <th>freq</th>\n",
       "      <td>1</td>\n",
       "      <td>620</td>\n",
       "    </tr>\n",
       "  </tbody>\n",
       "</table>\n",
       "</div>"
      ],
      "text/plain": [
       "                          img_path label\n",
       "count                         3482  3482\n",
       "unique                        3482    10\n",
       "top     Advertisement/04412344.jpg  Memo\n",
       "freq                             1   620"
      ]
     },
     "execution_count": 3,
     "metadata": {},
     "output_type": "execute_result"
    }
   ],
   "source": [
    "data.describe(include='all')"
   ]
  },
  {
   "cell_type": "markdown",
   "metadata": {},
   "source": [
    "Il semble y avoir 3482 éléments également contenus dans les dossiers de textes obtenus par OCR donc on a pas de problèmes de cohérences de nombres de données entre le .csv et ces dernières."
   ]
  },
  {
   "cell_type": "markdown",
   "metadata": {},
   "source": [
    "### Répartition des données"
   ]
  },
  {
   "cell_type": "markdown",
   "metadata": {},
   "source": [
    "Analysons la répartition des données avec quelques statistiques descriptives. Tout d'abord piochons 10 données au hasard pour établir une première observation :\n"
   ]
  },
  {
   "cell_type": "code",
   "execution_count": 4,
   "metadata": {},
   "outputs": [
    {
     "data": {
      "text/html": [
       "<div>\n",
       "<style scoped>\n",
       "    .dataframe tbody tr th:only-of-type {\n",
       "        vertical-align: middle;\n",
       "    }\n",
       "\n",
       "    .dataframe tbody tr th {\n",
       "        vertical-align: top;\n",
       "    }\n",
       "\n",
       "    .dataframe thead th {\n",
       "        text-align: right;\n",
       "    }\n",
       "</style>\n",
       "<table border=\"1\" class=\"dataframe\">\n",
       "  <thead>\n",
       "    <tr style=\"text-align: right;\">\n",
       "      <th></th>\n",
       "      <th>img_path</th>\n",
       "      <th>label</th>\n",
       "    </tr>\n",
       "  </thead>\n",
       "  <tbody>\n",
       "    <tr>\n",
       "      <th>848</th>\n",
       "      <td>Form/2023182617.jpg</td>\n",
       "      <td>Form</td>\n",
       "    </tr>\n",
       "    <tr>\n",
       "      <th>1980</th>\n",
       "      <td>Memo/2020268309.jpg</td>\n",
       "      <td>Memo</td>\n",
       "    </tr>\n",
       "    <tr>\n",
       "      <th>1212</th>\n",
       "      <td>Form/520940677+-0677.jpg</td>\n",
       "      <td>Form</td>\n",
       "    </tr>\n",
       "    <tr>\n",
       "      <th>1838</th>\n",
       "      <td>Memo/0000083559.jpg</td>\n",
       "      <td>Memo</td>\n",
       "    </tr>\n",
       "    <tr>\n",
       "      <th>485</th>\n",
       "      <td>Email/2081933672.jpg</td>\n",
       "      <td>Email</td>\n",
       "    </tr>\n",
       "    <tr>\n",
       "      <th>3010</th>\n",
       "      <td>Report/513206103+-6103.jpg</td>\n",
       "      <td>Report</td>\n",
       "    </tr>\n",
       "    <tr>\n",
       "      <th>1156</th>\n",
       "      <td>Form/2505365152.jpg</td>\n",
       "      <td>Form</td>\n",
       "    </tr>\n",
       "    <tr>\n",
       "      <th>2532</th>\n",
       "      <td>News/2025382018.jpg</td>\n",
       "      <td>News</td>\n",
       "    </tr>\n",
       "    <tr>\n",
       "      <th>2026</th>\n",
       "      <td>Memo/2025851048_2025851049.jpg</td>\n",
       "      <td>Memo</td>\n",
       "    </tr>\n",
       "    <tr>\n",
       "      <th>1172</th>\n",
       "      <td>Form/505852586_505852607.jpg</td>\n",
       "      <td>Form</td>\n",
       "    </tr>\n",
       "  </tbody>\n",
       "</table>\n",
       "</div>"
      ],
      "text/plain": [
       "                            img_path   label\n",
       "848              Form/2023182617.jpg    Form\n",
       "1980             Memo/2020268309.jpg    Memo\n",
       "1212        Form/520940677+-0677.jpg    Form\n",
       "1838             Memo/0000083559.jpg    Memo\n",
       "485             Email/2081933672.jpg   Email\n",
       "3010      Report/513206103+-6103.jpg  Report\n",
       "1156             Form/2505365152.jpg    Form\n",
       "2532             News/2025382018.jpg    News\n",
       "2026  Memo/2025851048_2025851049.jpg    Memo\n",
       "1172    Form/505852586_505852607.jpg    Form"
      ]
     },
     "execution_count": 4,
     "metadata": {},
     "output_type": "execute_result"
    }
   ],
   "source": [
    "data.sample(10)"
   ]
  },
  {
   "cell_type": "markdown",
   "metadata": {},
   "source": [
    "Il semble y avoir plus d'emails que d'autres types de documents dans notre jeu de données. On note aussi en relançant la commande que pas mal de lettres ou encore de memos sont présents. Avons-nous une sur-représentation d'une ou plusieurs classe(s) particulière(s) ?\n",
    "\n",
    "On peut tracer le diagramme bâtons du nombre de documents par type de documents :"
   ]
  },
  {
   "cell_type": "code",
   "execution_count": 5,
   "metadata": {},
   "outputs": [
    {
     "name": "stdout",
     "output_type": "stream",
     "text": [
      "Memo             620\n",
      "Email            599\n",
      "Letter           567\n",
      "Form             431\n",
      "Report           265\n",
      "Scientific       261\n",
      "Advertisement    230\n",
      "Note             201\n",
      "News             188\n",
      "Resume           120\n",
      "Name: label, dtype: int64\n"
     ]
    },
    {
     "data": {
      "text/plain": [
       "<matplotlib.axes._subplots.AxesSubplot at 0x1050e2710>"
      ]
     },
     "execution_count": 5,
     "metadata": {},
     "output_type": "execute_result"
    },
    {
     "data": {
      "image/png": "[encoded data removed]",
      "text/plain": [
       "<Figure size 432x288 with 1 Axes>"
      ]
     },
     "metadata": {
      "needs_background": "light"
     },
     "output_type": "display_data"
    }
   ],
   "source": [
    "repartition_numbers = data['label'].value_counts()\n",
    "print(repartition_numbers)\n",
    "repartition_numbers.plot.bar(title = 'Répartition des documents par label')"
   ]
  },
  {
   "cell_type": "markdown",
   "metadata": {},
   "source": [
    "Nous avons bel et bien 4 classes supérieures en nombre de données aux autres mais nous ne pouvons pas vraiment parler de sur-représensation.\n",
    "Le nombre de données restant globalement faible, si les résultats après apprentissage automatique de classifieurs ne sont pas satisfaisants, il faudrait augmenter ce nombre : avec de l'augmentation de données par exemple."
   ]
  },
  {
   "cell_type": "markdown",
   "metadata": {},
   "source": [
    "### Statistiques Textuelles sur les classes"
   ]
  },
  {
   "cell_type": "markdown",
   "metadata": {},
   "source": [
    "À partir des données OCR, **étudions le nombre de mots moyens par type de document :**"
   ]
  },
  {
   "cell_type": "code",
   "execution_count": 6,
   "metadata": {},
   "outputs": [
    {
     "data": {
      "image/png": "[encoded data removed]",
      "text/plain": [
       "<Figure size 864x288 with 1 Axes>"
      ]
     },
     "metadata": {
      "needs_background": "light"
     },
     "output_type": "display_data"
    }
   ],
   "source": [
    "dictionnary_word_average_number = count_average_number_of_words_per_class('tobacco-lab/data/Tobacco3482-OCR/')\n",
    "plt.figure(figsize=(12,4))\n",
    "plt.bar(range(len(dictionnary_word_average_number)), list(dictionnary_word_average_number.values()), align='center')\n",
    "plt.xticks(range(len(dictionnary_word_average_number)), list(dictionnary_word_average_number.keys()))\n",
    "plt.show()"
   ]
  },
  {
   "cell_type": "markdown",
   "metadata": {},
   "source": [
    "# 2. Pre-Processing et Découpe"
   ]
  },
  {
   "cell_type": "code",
   "execution_count": 7,
   "metadata": {},
   "outputs": [
    {
     "name": "stdout",
     "output_type": "stream",
     "text": [
      "taille de X : 3482\n",
      "taille de y : 3482\n",
      "taille de X_train : 2089\n",
      "taille de X_val : 696\n",
      "taille de X_test : 697\n",
      "taille de y_train : 2089\n",
      "taille de y_val : 696\n",
      "taille de y_test : 697\n"
     ]
    }
   ],
   "source": [
    "data = organize_and_split_data(csv_path)\n",
    "X_train = data[0]\n",
    "X_val = data[1]\n",
    "X_test = data[2]\n",
    "y_train = data[3]\n",
    "y_val = data[4]\n",
    "y_test = data[5]"
   ]
  },
  {
   "cell_type": "markdown",
   "metadata": {},
   "source": [
    "# 3. Tokenization et Entraînements"
   ]
  },
  {
   "cell_type": "code",
   "execution_count": 15,
   "metadata": {},
   "outputs": [
    {
     "name": "stdout",
     "output_type": "stream",
     "text": [
      "Tokenization...\n",
      "Terminé !\n",
      "Taille du vocabulaire :\n",
      "2000\n",
      "TFIDF...\n",
      "Terminé !\n"
     ]
    }
   ],
   "source": [
    "datasets_tokenized_idf = tokenizing_and_tfidf(X_train,X_test,2000)\n",
    "X_train_tf = datasets_tokenized_idf[0]\n",
    "X_val_tf = datasets_tokenized_idf[1]\n",
    "X_test_tf = datasets_tokenized_idf[2]"
   ]
  },
  {
   "cell_type": "code",
   "execution_count": 16,
   "metadata": {},
   "outputs": [
    {
     "name": "stdout",
     "output_type": "stream",
     "text": [
      "Entraînement...\n",
      "Terminé !\n",
      "Evaluation par Cross-Validation (5) avec alpha = 1.0 :\n",
      "0.5676747787033614\n",
      "Précision/Score sur les données de Test : \n",
      "0.6714490674318508\n",
      "\n",
      "Matrice de Confusion :\n",
      "[[ 14   0   1   0   0   2   1   0   0   0]\n",
      " [  0 126   1   1   3   1   3   0   0   0]\n",
      " [ 14   0  71   0   1   5  21   2   0  10]\n",
      " [  4   4   5  91  13  11   5  10   0   3]\n",
      " [ 12   6   5  30 101   2  11  18   0  16]\n",
      " [  1   0   0   0   0  17   0   1   0   0]\n",
      " [  0   0   0   0   0   0   0   0   0   0]\n",
      " [  0   0   0   0   0   1   0   2   0   1]\n",
      " [  0   0   0   0   0   0   0   0  23   0]\n",
      " [  0   0   0   1   0   1   0   2   0  23]]\n",
      "\n",
      "Rapport de classification :\n",
      "              precision    recall  f1-score   support\n",
      "\n",
      "           0       0.31      0.78      0.44        18\n",
      "           1       0.93      0.93      0.93       135\n",
      "           2       0.86      0.57      0.69       124\n",
      "           3       0.74      0.62      0.68       146\n",
      "           4       0.86      0.50      0.63       201\n",
      "           5       0.42      0.89      0.58        19\n",
      "           6       0.00      0.00      0.00         0\n",
      "           7       0.06      0.50      0.10         4\n",
      "           8       1.00      1.00      1.00        23\n",
      "           9       0.43      0.85      0.58        27\n",
      "\n",
      "   micro avg       0.67      0.67      0.67       697\n",
      "   macro avg       0.56      0.67      0.56       697\n",
      "weighted avg       0.80      0.67      0.71       697\n",
      "\n"
     ]
    }
   ],
   "source": [
    "first_muNB = my_MultinomialNB(X_train_tf,X_val_tf,X_test_tf,y_train,y_val,y_test)"
   ]
  },
  {
   "cell_type": "markdown",
   "metadata": {},
   "source": [
    "## Optimisation des Hyperparamètres :"
   ]
  },
  {
   "cell_type": "code",
   "execution_count": 21,
   "metadata": {},
   "outputs": [
    {
     "name": "stdout",
     "output_type": "stream",
     "text": [
      "Performing grid search...\n",
      "pipeline: ['vector', 'tfidf', 'clf']\n",
      "parameters:\n",
      "{'clf__alpha': (0.01, 0.02, 0.05, 0.1, 0.2, 0.5, 1.0),\n",
      " 'vector__max_df': (0.1, 0.2, 0.5, 0.6, 0.7, 0.75, 0.8),\n",
      " 'vector__max_features': (500, 1000, 1500, 2000)}\n",
      "Fitting 3 folds for each of 196 candidates, totalling 588 fits\n"
     ]
    },
    {
     "name": "stderr",
     "output_type": "stream",
     "text": [
      "[Parallel(n_jobs=-1)]: Using backend LokyBackend with 4 concurrent workers.\n",
      "[Parallel(n_jobs=-1)]: Done  33 tasks      | elapsed:   13.0s\n",
      "[Parallel(n_jobs=-1)]: Done 154 tasks      | elapsed:   58.4s\n",
      "[Parallel(n_jobs=-1)]: Done 357 tasks      | elapsed:  2.2min\n",
      "[Parallel(n_jobs=-1)]: Done 588 out of 588 | elapsed:  3.6min finished\n"
     ]
    },
    {
     "name": "stdout",
     "output_type": "stream",
     "text": [
      "done in 216.436s\n",
      "\n",
      "Best score: 0.703\n",
      "Best parameters set:\n",
      "\tclf__alpha: 0.2\n",
      "\tvector__max_df: 0.7\n",
      "\tvector__max_features: 1000\n"
     ]
    }
   ],
   "source": [
    "from sklearn.model_selection import GridSearchCV, PredefinedSplit\n",
    "from sklearn.pipeline import Pipeline\n",
    "from pprint import pprint\n",
    "from time import time\n",
    "import logging\n",
    "\n",
    "logging.basicConfig(level=logging.INFO,\n",
    "                    format='%(asctime)s %(levelname)s %(message)s')\n",
    "\n",
    "pipeline = Pipeline([\n",
    "    ('vector', CountVectorizer()),\n",
    "    ('tfidf', TfidfTransformer()),\n",
    "    ('clf', MultinomialNB()),\n",
    "])\n",
    "\n",
    "parameters = {\n",
    "    'vector__max_df': (0.1, 0.2, 0.5,0.6, 0.7, 0.75, 0.8),\n",
    "    'vector__max_features' : (500, 1000, 1500, 2000),\n",
    "    'clf__alpha': (0.01, 0.02, 0.05, 0.1, 0.2, 0.5, 1.0)\n",
    "}\n",
    "grid_search = GridSearchCV(pipeline, parameters, n_jobs=-1, verbose=2, cv=3)\n",
    "\n",
    "print(\"Grid Search ...\")\n",
    "print(\"pipeline:\", [name for name, _ in pipeline.steps])\n",
    "print(\"paramètres:\")\n",
    "pprint(parameters)\n",
    "t0 = time()\n",
    "grid_search.fit(X_train, y_train)\n",
    "print(\"Terminé en %0.3fs\" % (time() - t0))\n",
    "print()\n",
    "\n",
    "print(\"Meilleur score: %0.3f\" % grid_search.best_score_)\n",
    "print(\"Meilleurs paramètres : \")\n",
    "best_parameters = grid_search.best_estimator_.get_params()\n",
    "for param_name in sorted(parameters.keys()):\n",
    "    print(\"\\t%s: %r\" % (param_name, best_parameters[param_name]))"
   ]
  },
  {
   "cell_type": "code",
   "execution_count": null,
   "metadata": {},
   "outputs": [],
   "source": []
  }
 ],
 "metadata": {
  "kernelspec": {
   "display_name": "Python 3",
   "language": "python",
   "name": "python3"
  },
  "language_info": {
   "codemirror_mode": {
    "name": "ipython",
    "version": 3
   },
   "file_extension": ".py",
   "mimetype": "text/x-python",
   "name": "python",
   "nbconvert_exporter": "python",
   "pygments_lexer": "ipython3",
   "version": "3.6.6"
  }
 },
 "nbformat": 4,
 "nbformat_minor": 2
}
